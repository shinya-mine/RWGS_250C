{
 "cells": [
  {
   "cell_type": "code",
   "execution_count": null,
   "metadata": {},
   "outputs": [],
   "source": [
    "import numpy as np\n",
    "import pandas as pd\n",
    "import matplotlib.pyplot as plt\n",
    "from sklearn.ensemble import ExtraTreesRegressor, RandomForestRegressor\n",
    "import shap\n",
    "\n",
    "import sys, os\n",
    "sys.dont_write_bytecode = True\n",
    "import conditions, analysis\n",
    "\n",
    "import random\n",
    "random.seed(1107)\n",
    "np.random.seed(1107)\n",
    "\n",
    "import warnings\n",
    "warnings.filterwarnings('ignore')\n",
    "\n",
    "PATH = 'Output_Figures'\n",
    "os.makedirs(PATH, exist_ok=True)\n",
    "\n",
    "PATH2 = 'Output_CSV'\n",
    "os.makedirs(PATH2, exist_ok=True)\n",
    "\n",
    "print('SHAP version:', shap.__version__)\n",
    "print('SHAP PATH:')\n",
    "print(shap.__path__)"
   ]
  },
  {
   "cell_type": "code",
   "execution_count": 7,
   "metadata": {},
   "outputs": [
    {
     "name": "stdout",
     "output_type": "stream",
     "text": [
      "20220318 rwgs_250 all data\n"
     ]
    }
   ],
   "source": [
    "condition = conditions.calc_condition()\n",
    "Reaction, data_sheet_name = condition['Reaction'], condition['data_sheet_name']\n",
    "pgm_model, add_model, supp_model = condition['pgm_model'], condition['add_model'], condition['supp_model']\n",
    "pgm_num, add_num, supp_num = condition['pgm_num'], condition['add_num'], condition['supp_num']\n",
    "target_name = condition['target_name']\n",
    "\n",
    "converted = analysis.analysis_data_convert(condition, data_sheet_name, use_models=[pgm_model, add_model, supp_model], idx=None)\n",
    "data, feat, target = converted['data'], converted['feat'], converted['target']\n",
    "\n",
    "add_desc = converted['add_desc']\n",
    "add_aw = converted['add_aw']\n",
    "feat_cols = feat.columns\n",
    "\n",
    "data_cols = conditions.data_columns(Reaction, condition)\n",
    "elem_cols = data_cols['elem']\n",
    "wt_cols = data_cols['wt']\n",
    "data[wt_cols] = data[wt_cols].astype('float')\n",
    "\n",
    "data = data.drop(['No.', 'CO Yield_%', 'CO formation rate_mmol min-1 gcat-1', 'Iteration', 'Catal prep', 'Reaction', 'Note'], axis=1)\n",
    "\n",
    "data_sort = pd.DataFrame(index=np.arange(0, len(data), 1), columns=np.arange(0, len(data.columns), 1))\n",
    "for i in range(len(data)):\n",
    "    data_sort_elem = data.loc[i][[data.loc[i][wt_cols].sort_values(ascending=False).index[Adi].replace('_wt%', '') for Adi in range(add_num)]].reset_index().T.drop('index', axis=0)\n",
    "    data_sort_wt = data.loc[i][wt_cols].sort_values(ascending=False).reset_index().T.drop('index', axis=0)\n",
    "    data_sort.iloc[i] = pd.concat([data_sort_elem, data_sort_wt], axis=1)\n",
    "data_sort = data_sort.rename(columns={\n",
    "    0: f'{elem_cols[0]}', 1: f'{elem_cols[1]}', 2: f'{elem_cols[2]}', 3: f'{elem_cols[3]}', 4: f'{elem_cols[4]}',\n",
    "    5: f'{wt_cols[0]}', 6: f'{wt_cols[1]}', 7: f'{wt_cols[2]}', 8: f'{wt_cols[3]}', 9: f'{wt_cols[4]}'\n",
    "    }).reindex(columns=data.columns)\n",
    "data_sort['Catalyst'] = 'Pt(3)/'\n",
    "\n",
    "for i in range(len(data)):\n",
    "    for j in range(add_num):\n",
    "        if data_sort[elem_cols[j]][i] != 'H' and j == 0:\n",
    "            data_sort['Catalyst'][i] += data_sort[elem_cols[j]][i]\n",
    "        elif data_sort[elem_cols[j]][i] != 'H' and j != 0:\n",
    "            data_sort['Catalyst'][i] += '-' + data_sort[elem_cols[j]][i]\n",
    "        else:\n",
    "            pass\n",
    "        if data_sort[wt_cols[j]][i] >= 1:\n",
    "            data_sort[wt_cols[j]][i] = data_sort[wt_cols[j]][i].astype(int)\n",
    "            data_sort['Catalyst'][i] += '(' + data_sort[wt_cols[j]][i].astype(str) + ')'\n",
    "        elif data_sort[wt_cols[j]][i] < 1 and data_sort[wt_cols[j]][i] > 0:\n",
    "            data_sort['Catalyst'][i] += '(' + data_sort[wt_cols[j]][i].astype(str) + ')'\n",
    "        else:\n",
    "            pass\n",
    "data_sort['Catalyst'] += '/TiO2'\n",
    "\n",
    "Table_S4 = converted['data']\n",
    "Table_S4 = Table_S4.drop(elem_cols, axis=1).drop(wt_cols, axis=1).drop(['Catal prep', 'Reaction', 'Note'], axis=1).rename(columns = {'No.':'ID'})\n",
    "Table_S4.loc[:, ['CO Yield_%', 'CO formation rate_mmol min-1 gcat-1']] = Table_S4.loc[:, ['CO Yield_%', 'CO formation rate_mmol min-1 gcat-1']].round(2)\n",
    "Table_S4.insert(loc = 1, column= 'Catalyst', value= data_sort['Catalyst'])\n",
    "Table_S4.insert(loc = 3, column= 'CO selectivity_%', value= 100)"
   ]
  },
  {
   "cell_type": "code",
   "execution_count": null,
   "metadata": {},
   "outputs": [],
   "source": [
    "model  = ExtraTreesRegressor(n_estimators=100, random_state=1107, n_jobs=-1)\n",
    "\n",
    "os.makedirs(f'{PATH}/SHAP/waterfall/prop{add_model}', exist_ok=True)\n",
    "data = converted['data']\n",
    "data['CO formation rate_mmol min-1 gcat-1']=Table_S4['CO formation rate_mmol min-1 gcat-1']\n",
    "target_name, ML_model = condition['target_name'], condition['ML_model']\n",
    "model = ExtraTreesRegressor(n_estimators=100, random_state=1107, n_jobs=4)\n",
    "model.fit(feat, target)\n",
    "\n",
    "explainer = shap.Explainer(model, feat)\n",
    "shap_values = explainer(feat)\n",
    "shap_values.values = np.round(shap_values.values, 2)\n",
    "shap_values.base_values = np.round(shap_values.base_values, 2)\n",
    "shap_values.data = np.round(shap_values.data, 2)\n",
    "\n",
    "plt.figure(facecolor='white', figsize =(8,6))\n",
    "\n",
    "for i in range(len(data)):\n",
    "    plt.figure(facecolor='white', figsize =(8,6))\n",
    "    Cat_No = data['No.'][i]\n",
    "    print('No.', data['No.'][i], Table_S4['Catalyst'][i], 'CO form rate:', round(data[target_name][i], 2))\n",
    "    save_file_name = f'{PATH}/SHAP/waterfall/prop{add_model}/Cat_No_{Cat_No}_shap_waterfall_prop{add_model}.png'\n",
    "    shap.plots.waterfall(shap_values[i], max_display=9, show=True, filename=save_file_name)"
   ]
  },
  {
   "cell_type": "code",
   "execution_count": null,
   "metadata": {},
   "outputs": [],
   "source": []
  }
 ],
 "metadata": {
  "kernelspec": {
   "display_name": "mine",
   "language": "python",
   "name": "python3"
  },
  "language_info": {
   "codemirror_mode": {
    "name": "ipython",
    "version": 3
   },
   "file_extension": ".py",
   "mimetype": "text/x-python",
   "name": "python",
   "nbconvert_exporter": "python",
   "pygments_lexer": "ipython3",
   "version": "3.10.11"
  },
  "orig_nbformat": 4
 },
 "nbformat": 4,
 "nbformat_minor": 2
}
